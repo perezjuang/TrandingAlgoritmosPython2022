{
  "cells": [
    {
      "cell_type": "markdown",
      "metadata": {
        "colab_type": "text",
        "id": "view-in-github"
      },
      "source": [
        "<a href=\"https://colab.research.google.com/github/perezjuang/TrandingAlgoritmosPython2022/blob/main/FXCM_REST_API_Demonstration.ipynb\" target=\"_parent\"><img src=\"https://colab.research.google.com/assets/colab-badge.svg\" alt=\"Open In Colab\"/></a>"
      ]
    },
    {
      "cell_type": "markdown",
      "metadata": {
        "id": "JWZaCusZ2VF8"
      },
      "source": [
        "<h1>FXCM REST API Demonstration</h1>"
      ]
    },
    {
      "cell_type": "markdown",
      "metadata": {
        "collapsed": true,
        "id": "L5JuRFFe2VF_"
      },
      "source": [
        "<h3>Connecting to FXCM REST API</h3>"
      ]
    },
    {
      "cell_type": "code",
      "execution_count": null,
      "metadata": {
        "id": "UES_XrFq2VGA"
      },
      "outputs": [],
      "source": [
        "#import fxcmpy and check the imported version\n",
        "import fxcmpy\n",
        "import datetime as dt\n",
        "fxcmpy.__version__\n",
        "\n",
        "token = 'YOUR_TOKEN_HERE'\n",
        "\n",
        "#Use the config file to connect to the API. \n",
        "con = fxcmpy.fxcmpy(access_token = token, log_level='error',log_file=None)\n",
        "\n",
        "#The server is demo by default. THe options below are also available for usage.\n",
        "#con = fxcmpy.fxcmpy(config_file='fxcm.cfg', server='demo')\n",
        "\n",
        "#Connect to the API with a real account. Do not forget to change the access token in the config file.\n",
        "#con = fxcmpy.fxcmpy(config_file='fxcm.cfg', server='real')"
      ]
    },
    {
      "cell_type": "markdown",
      "metadata": {
        "collapsed": true,
        "id": "Tsy34dHa2VGB"
      },
      "source": [
        "<h3>Getting Instruments</h3>"
      ]
    },
    {
      "cell_type": "code",
      "execution_count": null,
      "metadata": {
        "id": "cYId4pN42VGB",
        "scrolled": true
      },
      "outputs": [],
      "source": [
        "# All Tradable Instruments\n",
        "\n",
        "con.get_instruments()"
      ]
    },
    {
      "cell_type": "code",
      "execution_count": null,
      "metadata": {
        "id": "H8338aqm2VGC",
        "scrolled": true
      },
      "outputs": [],
      "source": [
        "# Instruments that your account is subscribed to\n",
        "\n",
        "con.get_instruments_for_candles()"
      ]
    },
    {
      "cell_type": "markdown",
      "metadata": {
        "id": "eTVp20Ev2VGC"
      },
      "source": [
        "<h3>Pulling Historical Prices</h3>\n",
        "\n",
        "Available periods : 'm1', 'm5', 'm15', 'm30', 'H1', 'H2', 'H3', 'H4', 'H6', 'H8','D1', 'W1', or 'M1'."
      ]
    },
    {
      "cell_type": "code",
      "execution_count": null,
      "metadata": {
        "id": "3rNFVqbH2VGD"
      },
      "outputs": [],
      "source": [
        "#Getting historical prices by specifying only the period.  \n",
        "\n",
        "con.get_candles('EUR/JPY', period='m1')"
      ]
    },
    {
      "cell_type": "code",
      "execution_count": null,
      "metadata": {
        "id": "ASaj6lGV2VGD",
        "scrolled": true
      },
      "outputs": [],
      "source": [
        "#Getting historical prices by specifying the number of results you would like to see.\n",
        "\n",
        "con.get_candles('EUR/USD', period='m1', number=100)"
      ]
    },
    {
      "cell_type": "code",
      "execution_count": null,
      "metadata": {
        "id": "-oH_1qZ72VGE",
        "scrolled": true
      },
      "outputs": [],
      "source": [
        "#Getting historical Prices by Specifying the start and the end date.\n",
        "\n",
        "start = dt.datetime(2018, 1, 14)\n",
        "stop = dt.datetime(2018, 5, 1)\n",
        "\n",
        "con.get_candles('EUR/USD', period='D1',\n",
        "                start=start, stop=stop)"
      ]
    },
    {
      "cell_type": "markdown",
      "metadata": {
        "collapsed": true,
        "id": "2k26jDR_2VGE"
      },
      "source": [
        "<h3>Streaming Real-time Prices</h3>"
      ]
    },
    {
      "cell_type": "code",
      "execution_count": null,
      "metadata": {
        "id": "ewcdWzAJ2VGE"
      },
      "outputs": [],
      "source": [
        "# Subscribe To Market Data\n",
        "\n",
        "con.subscribe_market_data('EUR/USD')"
      ]
    },
    {
      "cell_type": "code",
      "execution_count": null,
      "metadata": {
        "id": "0EmyArWc2VGF"
      },
      "outputs": [],
      "source": [
        "# Once you are subscribed the fxcm.py collects the data in a pandas DataFrame. \n",
        "\n",
        "con.get_prices('EUR/USD')"
      ]
    },
    {
      "cell_type": "code",
      "execution_count": null,
      "metadata": {
        "id": "g8_nXwf-2VGF"
      },
      "outputs": [],
      "source": [
        "#To stop the stream and delete the dataframe\n",
        "\n",
        "con.unsubscribe_market_data('EUR/USD')"
      ]
    },
    {
      "cell_type": "markdown",
      "metadata": {
        "collapsed": true,
        "id": "2RYzyuyf2VGF"
      },
      "source": [
        "<h3>Executing Orders</h3>"
      ]
    },
    {
      "cell_type": "code",
      "execution_count": null,
      "metadata": {
        "id": "WiopUeiP2VGF"
      },
      "outputs": [],
      "source": [
        "# Check whether you have an open positions already.\n",
        "\n",
        "con.get_open_positions()"
      ]
    },
    {
      "cell_type": "code",
      "execution_count": null,
      "metadata": {
        "id": "GMgxO2fA2VGG"
      },
      "outputs": [],
      "source": [
        "# Create a market order\n",
        "\n",
        "order = con.create_market_buy_order('USD/JPY', 10)"
      ]
    },
    {
      "cell_type": "code",
      "execution_count": null,
      "metadata": {
        "id": "-3rNRFOO2VGG"
      },
      "outputs": [],
      "source": [
        "#Checking The New Oen Position Table\n",
        "\n",
        "con.get_open_positions().T"
      ]
    },
    {
      "cell_type": "code",
      "execution_count": null,
      "metadata": {
        "id": "EGry6p3O2VGG"
      },
      "outputs": [],
      "source": [
        "# Place an order with more control over parameters\n",
        "\n",
        "order2 = con.open_trade(symbol='EUR/JPY', is_buy=True,\n",
        "                       rate=105, is_in_pips=False,\n",
        "                       amount='10', time_in_force='GTC',\n",
        "                       order_type='AtMarket', limit=150)\n"
      ]
    },
    {
      "cell_type": "markdown",
      "metadata": {
        "collapsed": true,
        "id": "LoSe4wGD2VGG"
      },
      "source": [
        "<h3>Closing Orders</h3>"
      ]
    },
    {
      "cell_type": "code",
      "execution_count": null,
      "metadata": {
        "id": "OGcROjqr2VGG"
      },
      "outputs": [],
      "source": [
        "# Close position by specifying the tradeId\n",
        "\n",
        "pos = con.get_open_position(65680347)\n",
        "pos.close()"
      ]
    },
    {
      "cell_type": "code",
      "execution_count": null,
      "metadata": {
        "id": "VE0itd6b2VGH"
      },
      "outputs": [],
      "source": [
        "# Close positions by specifying the currency pair\n",
        "\n",
        "con.close_all_for_symbol('USD/JPY')"
      ]
    },
    {
      "cell_type": "code",
      "execution_count": null,
      "metadata": {
        "id": "jZnk2x4N2VGH"
      },
      "outputs": [],
      "source": [
        "# CLose all the positions at once\n",
        "\n",
        "con.close_all()"
      ]
    },
    {
      "cell_type": "code",
      "execution_count": null,
      "metadata": {
        "id": "qN0BiXg62VGH"
      },
      "outputs": [],
      "source": []
    }
  ],
  "metadata": {
    "colab": {
      "include_colab_link": true,
      "name": "FXCM-REST-API-Demonstration.ipynb",
      "provenance": []
    },
    "kernelspec": {
      "display_name": "Python 3.10.5 ('venv': venv)",
      "language": "python",
      "name": "python3"
    },
    "language_info": {
      "codemirror_mode": {
        "name": "ipython",
        "version": 3
      },
      "file_extension": ".py",
      "mimetype": "text/x-python",
      "name": "python",
      "nbconvert_exporter": "python",
      "pygments_lexer": "ipython3",
      "version": "3.10.5"
    },
    "vscode": {
      "interpreter": {
        "hash": "1ef4eeeb7ca9025c5051a0832f8279eb6e610cb34590e59db157aba65da2154d"
      }
    }
  },
  "nbformat": 4,
  "nbformat_minor": 0
}
